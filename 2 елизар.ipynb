{
 "cells": [
  {
   "cell_type": "code",
   "execution_count": 2,
   "metadata": {},
   "outputs": [],
   "source": [
    "import numpy as np\n",
    "import pandas as pd\n",
    "import matplotlib.pyplot as plt\n",
    "import seaborn as sns\n",
    "from IPython.display import display\n",
    "from datetime import datetime\n"
   ]
  },
  {
   "cell_type": "markdown",
   "metadata": {},
   "source": [
    "# Иванов Юрий"
   ]
  },
  {
   "cell_type": "code",
   "execution_count": 3,
   "metadata": {},
   "outputs": [
    {
     "data": {
      "text/plain": [
       "DatetimeIndex(['2010-07-01 00:10:00', '2010-07-01 00:11:00',\n",
       "               '2010-07-01 00:35:00', '2010-07-01 00:44:00',\n",
       "               '2010-07-01 01:10:00', '2010-07-01 01:38:00',\n",
       "               '2010-07-01 01:45:00', '2010-07-01 05:50:00',\n",
       "               '2010-07-01 06:38:00', '2010-07-01 06:43:00',\n",
       "               ...\n",
       "               '2015-12-31 22:40:00', '2015-12-31 22:40:00',\n",
       "               '2015-12-31 22:46:00', '2015-12-31 22:50:00',\n",
       "               '2015-12-31 22:56:00', '2015-12-31 23:09:00',\n",
       "               '2015-12-31 23:40:00', '2015-12-31 23:44:00',\n",
       "               '2015-12-31 23:55:00', '2015-12-31 23:55:00'],\n",
       "              dtype='datetime64[ns]', length=273181, freq=None)"
      ]
     },
     "execution_count": 3,
     "metadata": {},
     "output_type": "execute_result"
    }
   ],
   "source": [
    "# задание 1 балл (сум 1)\n",
    "# загрузить данные, индекс - переменная вида дата/время\n",
    "df = pd.read_csv('C:/Users/Yana/Desktop/юни/прога/введение в АД/crime_csv.zip', \n",
    "                 parse_dates=True, index_col = ['Unnamed: 0'])\n",
    "df.index"
   ]
  },
  {
   "cell_type": "code",
   "execution_count": 5,
   "metadata": {},
   "outputs": [
    {
     "ename": "ValueError",
     "evalue": "If using all scalar values, you must pass an index",
     "output_type": "error",
     "traceback": [
      "\u001b[1;31m---------------------------------------------------------------------------\u001b[0m",
      "\u001b[1;31mValueError\u001b[0m                                Traceback (most recent call last)",
      "\u001b[1;32m~\\AppData\\Local\\Temp/ipykernel_8820/2085614761.py\u001b[0m in \u001b[0;36m<module>\u001b[1;34m\u001b[0m\n\u001b[0;32m      3\u001b[0m \u001b[1;31m# правонарушений (строки - пол (driver_gender), колонки - расса (driver_race))\u001b[0m\u001b[1;33m\u001b[0m\u001b[1;33m\u001b[0m\u001b[0m\n\u001b[0;32m      4\u001b[0m \u001b[1;33m\u001b[0m\u001b[0m\n\u001b[1;32m----> 5\u001b[1;33m \u001b[0mdf_pivot\u001b[0m \u001b[1;33m=\u001b[0m \u001b[0mpd\u001b[0m\u001b[1;33m.\u001b[0m\u001b[0mcrosstab\u001b[0m\u001b[1;33m(\u001b[0m\u001b[0mindex\u001b[0m\u001b[1;33m=\u001b[0m\u001b[1;34m'driver_gender'\u001b[0m\u001b[1;33m,\u001b[0m\u001b[0mcolumns\u001b[0m\u001b[1;33m=\u001b[0m\u001b[1;34m'driver_race'\u001b[0m\u001b[1;33m,\u001b[0m \u001b[0maggfunc\u001b[0m\u001b[1;33m=\u001b[0m\u001b[1;34m'count'\u001b[0m\u001b[1;33m,\u001b[0m \u001b[0mvalues\u001b[0m \u001b[1;33m=\u001b[0m \u001b[1;34m'id'\u001b[0m\u001b[1;33m,\u001b[0m \u001b[0mnormalize\u001b[0m\u001b[1;33m=\u001b[0m \u001b[1;34m'columns'\u001b[0m\u001b[1;33m)\u001b[0m\u001b[1;33m\u001b[0m\u001b[1;33m\u001b[0m\u001b[0m\n\u001b[0m\u001b[0;32m      6\u001b[0m \u001b[0mdf_pivot\u001b[0m\u001b[1;33m\u001b[0m\u001b[1;33m\u001b[0m\u001b[0m\n\u001b[0;32m      7\u001b[0m \u001b[1;33m\u001b[0m\u001b[0m\n",
      "\u001b[1;32m~\\anaconda3\\lib\\site-packages\\pandas\\core\\reshape\\pivot.py\u001b[0m in \u001b[0;36mcrosstab\u001b[1;34m(index, columns, values, rownames, colnames, aggfunc, margins, margins_name, dropna, normalize)\u001b[0m\n\u001b[0;32m    652\u001b[0m         \u001b[1;33m**\u001b[0m\u001b[0mdict\u001b[0m\u001b[1;33m(\u001b[0m\u001b[0mzip\u001b[0m\u001b[1;33m(\u001b[0m\u001b[0munique_colnames\u001b[0m\u001b[1;33m,\u001b[0m \u001b[0mcolumns\u001b[0m\u001b[1;33m)\u001b[0m\u001b[1;33m)\u001b[0m\u001b[1;33m,\u001b[0m\u001b[1;33m\u001b[0m\u001b[1;33m\u001b[0m\u001b[0m\n\u001b[0;32m    653\u001b[0m     }\n\u001b[1;32m--> 654\u001b[1;33m     \u001b[0mdf\u001b[0m \u001b[1;33m=\u001b[0m \u001b[0mDataFrame\u001b[0m\u001b[1;33m(\u001b[0m\u001b[0mdata\u001b[0m\u001b[1;33m,\u001b[0m \u001b[0mindex\u001b[0m\u001b[1;33m=\u001b[0m\u001b[0mcommon_idx\u001b[0m\u001b[1;33m)\u001b[0m\u001b[1;33m\u001b[0m\u001b[1;33m\u001b[0m\u001b[0m\n\u001b[0m\u001b[0;32m    655\u001b[0m \u001b[1;33m\u001b[0m\u001b[0m\n\u001b[0;32m    656\u001b[0m     \u001b[1;32mif\u001b[0m \u001b[0mvalues\u001b[0m \u001b[1;32mis\u001b[0m \u001b[1;32mNone\u001b[0m\u001b[1;33m:\u001b[0m\u001b[1;33m\u001b[0m\u001b[1;33m\u001b[0m\u001b[0m\n",
      "\u001b[1;32m~\\anaconda3\\lib\\site-packages\\pandas\\core\\frame.py\u001b[0m in \u001b[0;36m__init__\u001b[1;34m(self, data, index, columns, dtype, copy)\u001b[0m\n\u001b[0;32m    612\u001b[0m         \u001b[1;32melif\u001b[0m \u001b[0misinstance\u001b[0m\u001b[1;33m(\u001b[0m\u001b[0mdata\u001b[0m\u001b[1;33m,\u001b[0m \u001b[0mdict\u001b[0m\u001b[1;33m)\u001b[0m\u001b[1;33m:\u001b[0m\u001b[1;33m\u001b[0m\u001b[1;33m\u001b[0m\u001b[0m\n\u001b[0;32m    613\u001b[0m             \u001b[1;31m# GH#38939 de facto copy defaults to False only in non-dict cases\u001b[0m\u001b[1;33m\u001b[0m\u001b[1;33m\u001b[0m\u001b[0m\n\u001b[1;32m--> 614\u001b[1;33m             \u001b[0mmgr\u001b[0m \u001b[1;33m=\u001b[0m \u001b[0mdict_to_mgr\u001b[0m\u001b[1;33m(\u001b[0m\u001b[0mdata\u001b[0m\u001b[1;33m,\u001b[0m \u001b[0mindex\u001b[0m\u001b[1;33m,\u001b[0m \u001b[0mcolumns\u001b[0m\u001b[1;33m,\u001b[0m \u001b[0mdtype\u001b[0m\u001b[1;33m=\u001b[0m\u001b[0mdtype\u001b[0m\u001b[1;33m,\u001b[0m \u001b[0mcopy\u001b[0m\u001b[1;33m=\u001b[0m\u001b[0mcopy\u001b[0m\u001b[1;33m,\u001b[0m \u001b[0mtyp\u001b[0m\u001b[1;33m=\u001b[0m\u001b[0mmanager\u001b[0m\u001b[1;33m)\u001b[0m\u001b[1;33m\u001b[0m\u001b[1;33m\u001b[0m\u001b[0m\n\u001b[0m\u001b[0;32m    615\u001b[0m         \u001b[1;32melif\u001b[0m \u001b[0misinstance\u001b[0m\u001b[1;33m(\u001b[0m\u001b[0mdata\u001b[0m\u001b[1;33m,\u001b[0m \u001b[0mma\u001b[0m\u001b[1;33m.\u001b[0m\u001b[0mMaskedArray\u001b[0m\u001b[1;33m)\u001b[0m\u001b[1;33m:\u001b[0m\u001b[1;33m\u001b[0m\u001b[1;33m\u001b[0m\u001b[0m\n\u001b[0;32m    616\u001b[0m             \u001b[1;32mimport\u001b[0m \u001b[0mnumpy\u001b[0m\u001b[1;33m.\u001b[0m\u001b[0mma\u001b[0m\u001b[1;33m.\u001b[0m\u001b[0mmrecords\u001b[0m \u001b[1;32mas\u001b[0m \u001b[0mmrecords\u001b[0m\u001b[1;33m\u001b[0m\u001b[1;33m\u001b[0m\u001b[0m\n",
      "\u001b[1;32m~\\anaconda3\\lib\\site-packages\\pandas\\core\\internals\\construction.py\u001b[0m in \u001b[0;36mdict_to_mgr\u001b[1;34m(data, index, columns, dtype, typ, copy)\u001b[0m\n\u001b[0;32m    462\u001b[0m         \u001b[1;31m# TODO: can we get rid of the dt64tz special case above?\u001b[0m\u001b[1;33m\u001b[0m\u001b[1;33m\u001b[0m\u001b[0m\n\u001b[0;32m    463\u001b[0m \u001b[1;33m\u001b[0m\u001b[0m\n\u001b[1;32m--> 464\u001b[1;33m     return arrays_to_mgr(\n\u001b[0m\u001b[0;32m    465\u001b[0m         \u001b[0marrays\u001b[0m\u001b[1;33m,\u001b[0m \u001b[0mdata_names\u001b[0m\u001b[1;33m,\u001b[0m \u001b[0mindex\u001b[0m\u001b[1;33m,\u001b[0m \u001b[0mcolumns\u001b[0m\u001b[1;33m,\u001b[0m \u001b[0mdtype\u001b[0m\u001b[1;33m=\u001b[0m\u001b[0mdtype\u001b[0m\u001b[1;33m,\u001b[0m \u001b[0mtyp\u001b[0m\u001b[1;33m=\u001b[0m\u001b[0mtyp\u001b[0m\u001b[1;33m,\u001b[0m \u001b[0mconsolidate\u001b[0m\u001b[1;33m=\u001b[0m\u001b[0mcopy\u001b[0m\u001b[1;33m\u001b[0m\u001b[1;33m\u001b[0m\u001b[0m\n\u001b[0;32m    466\u001b[0m     )\n",
      "\u001b[1;32m~\\anaconda3\\lib\\site-packages\\pandas\\core\\internals\\construction.py\u001b[0m in \u001b[0;36marrays_to_mgr\u001b[1;34m(arrays, arr_names, index, columns, dtype, verify_integrity, typ, consolidate)\u001b[0m\n\u001b[0;32m    117\u001b[0m         \u001b[1;31m# figure out the index, if necessary\u001b[0m\u001b[1;33m\u001b[0m\u001b[1;33m\u001b[0m\u001b[0m\n\u001b[0;32m    118\u001b[0m         \u001b[1;32mif\u001b[0m \u001b[0mindex\u001b[0m \u001b[1;32mis\u001b[0m \u001b[1;32mNone\u001b[0m\u001b[1;33m:\u001b[0m\u001b[1;33m\u001b[0m\u001b[1;33m\u001b[0m\u001b[0m\n\u001b[1;32m--> 119\u001b[1;33m             \u001b[0mindex\u001b[0m \u001b[1;33m=\u001b[0m \u001b[0m_extract_index\u001b[0m\u001b[1;33m(\u001b[0m\u001b[0marrays\u001b[0m\u001b[1;33m)\u001b[0m\u001b[1;33m\u001b[0m\u001b[1;33m\u001b[0m\u001b[0m\n\u001b[0m\u001b[0;32m    120\u001b[0m         \u001b[1;32melse\u001b[0m\u001b[1;33m:\u001b[0m\u001b[1;33m\u001b[0m\u001b[1;33m\u001b[0m\u001b[0m\n\u001b[0;32m    121\u001b[0m             \u001b[0mindex\u001b[0m \u001b[1;33m=\u001b[0m \u001b[0mensure_index\u001b[0m\u001b[1;33m(\u001b[0m\u001b[0mindex\u001b[0m\u001b[1;33m)\u001b[0m\u001b[1;33m\u001b[0m\u001b[1;33m\u001b[0m\u001b[0m\n",
      "\u001b[1;32m~\\anaconda3\\lib\\site-packages\\pandas\\core\\internals\\construction.py\u001b[0m in \u001b[0;36m_extract_index\u001b[1;34m(data)\u001b[0m\n\u001b[0;32m    623\u001b[0m \u001b[1;33m\u001b[0m\u001b[0m\n\u001b[0;32m    624\u001b[0m         \u001b[1;32mif\u001b[0m \u001b[1;32mnot\u001b[0m \u001b[0mindexes\u001b[0m \u001b[1;32mand\u001b[0m \u001b[1;32mnot\u001b[0m \u001b[0mraw_lengths\u001b[0m\u001b[1;33m:\u001b[0m\u001b[1;33m\u001b[0m\u001b[1;33m\u001b[0m\u001b[0m\n\u001b[1;32m--> 625\u001b[1;33m             \u001b[1;32mraise\u001b[0m \u001b[0mValueError\u001b[0m\u001b[1;33m(\u001b[0m\u001b[1;34m\"If using all scalar values, you must pass an index\"\u001b[0m\u001b[1;33m)\u001b[0m\u001b[1;33m\u001b[0m\u001b[1;33m\u001b[0m\u001b[0m\n\u001b[0m\u001b[0;32m    626\u001b[0m \u001b[1;33m\u001b[0m\u001b[0m\n\u001b[0;32m    627\u001b[0m         \u001b[1;32mif\u001b[0m \u001b[0mhave_series\u001b[0m\u001b[1;33m:\u001b[0m\u001b[1;33m\u001b[0m\u001b[1;33m\u001b[0m\u001b[0m\n",
      "\u001b[1;31mValueError\u001b[0m: If using all scalar values, you must pass an index"
     ]
    }
   ],
   "source": [
    "# задание 1 балл (сум 2)\n",
    "# построить сводную таблицу по клоличеству \n",
    "# правонарушений (строки - пол (driver_gender), колонки - расса (driver_race))\n",
    "\n",
    "df_pivot = pd.crosstab(index=df.driver_gender,columns=df.driver_race', aggfunc='count', values = 'id', normalize= 'columns')\n",
    "df_pivot\n",
    "\n",
    "#df.groupby(['driver_gender', 'driver_race']).count()[['id']]"
   ]
  },
  {
   "cell_type": "code",
   "execution_count": null,
   "metadata": {},
   "outputs": [],
   "source": [
    "# задание 1 балл (сум 3)\n",
    "# построить сводную таблицу по процентам в зависимости от рассы (1 - для каждой рассы)\n",
    "# и пола внутри рассы (например, белые мужчины 0.8, белые женщины 0.2)\n",
    "# в таблице строки - пол, колонrи - расса\n",
    "df_per = df_pivot.apply(lambda x: x/sum(x))\n",
    "df_per"
   ]
  },
  {
   "cell_type": "code",
   "execution_count": 56,
   "metadata": {},
   "outputs": [
    {
     "data": {
      "image/png": "[encoded data removed]",
      "text/plain": [
       "<Figure size 432x288 with 1 Axes>"
      ]
     },
     "metadata": {
      "needs_background": "light"
     },
     "output_type": "display_data"
    }
   ],
   "source": [
    "# задание 1 балл (сум 4)\n",
    "# результат предидущей таблицы визуализировать на столбцовом графике с высотой столбца 1 для каждой рассы и \n",
    "# разделением внутри по полу (внимание! подписи на графике)\n",
    "# seaborn так делать не умеет\n",
    "# df_per = df_per/100\n",
    "df_per.transpose().plot(kind='bar', stacked=True);"
   ]
  },
  {
   "cell_type": "code",
   "execution_count": 57,
   "metadata": {},
   "outputs": [
    {
     "data": {
      "text/html": [
       "<div>\n",
       "<style scoped>\n",
       "    .dataframe tbody tr th:only-of-type {\n",
       "        vertical-align: middle;\n",
       "    }\n",
       "\n",
       "    .dataframe tbody tr th {\n",
       "        vertical-align: top;\n",
       "    }\n",
       "\n",
       "    .dataframe thead th {\n",
       "        text-align: right;\n",
       "    }\n",
       "</style>\n",
       "<table border=\"1\" class=\"dataframe\">\n",
       "  <thead>\n",
       "    <tr style=\"text-align: right;\">\n",
       "      <th>violation</th>\n",
       "      <th>DUI</th>\n",
       "      <th>Equipment</th>\n",
       "      <th>Moving violation</th>\n",
       "      <th>Other</th>\n",
       "      <th>Other (non-mapped)</th>\n",
       "      <th>All</th>\n",
       "    </tr>\n",
       "    <tr>\n",
       "      <th>driver_gender</th>\n",
       "      <th></th>\n",
       "      <th></th>\n",
       "      <th></th>\n",
       "      <th></th>\n",
       "      <th></th>\n",
       "      <th></th>\n",
       "    </tr>\n",
       "  </thead>\n",
       "  <tbody>\n",
       "    <tr>\n",
       "      <th>F</th>\n",
       "      <td>198</td>\n",
       "      <td>18755</td>\n",
       "      <td>76717</td>\n",
       "      <td>3441</td>\n",
       "      <td>0</td>\n",
       "      <td>99111</td>\n",
       "    </tr>\n",
       "    <tr>\n",
       "      <th>M</th>\n",
       "      <td>513</td>\n",
       "      <td>31845</td>\n",
       "      <td>135383</td>\n",
       "      <td>6327</td>\n",
       "      <td>2</td>\n",
       "      <td>174070</td>\n",
       "    </tr>\n",
       "    <tr>\n",
       "      <th>All</th>\n",
       "      <td>711</td>\n",
       "      <td>50600</td>\n",
       "      <td>212100</td>\n",
       "      <td>9768</td>\n",
       "      <td>2</td>\n",
       "      <td>273181</td>\n",
       "    </tr>\n",
       "  </tbody>\n",
       "</table>\n",
       "</div>"
      ],
      "text/plain": [
       "violation      DUI  Equipment  Moving violation  Other  Other (non-mapped)  \\\n",
       "driver_gender                                                                \n",
       "F              198      18755             76717   3441                   0   \n",
       "M              513      31845            135383   6327                   2   \n",
       "All            711      50600            212100   9768                   2   \n",
       "\n",
       "violation         All  \n",
       "driver_gender          \n",
       "F               99111  \n",
       "M              174070  \n",
       "All            273181  "
      ]
     },
     "execution_count": 57,
     "metadata": {},
     "output_type": "execute_result"
    }
   ],
   "source": [
    "# задание 1 балла (сум 5)\n",
    "# какое кодичество правонарушений  по видам нарушений (violation) \n",
    "# зафиксированны для мужчин и женщин (driver_gender)\n",
    "# обязательно посчитать суммы по строкам/столбцам\n",
    "# в таблице не должны быть np.nan (только числа)\n",
    "# все оформить в виде одной сводной таблицы\n",
    "df.pivot_table(index = 'driver_gender', columns = 'violation', aggfunc = 'count', values = 'id',fill_value=0, margins=True)\n",
    "#df.pivot_table(index='driver_gender',columns='violation',aggfunc='count',fill_value=0,margins=True)['violation_raw']"
   ]
  },
  {
   "cell_type": "code",
   "execution_count": 90,
   "metadata": {},
   "outputs": [
    {
     "data": {
      "text/plain": [
       "Index(['Чт'], dtype='object')"
      ]
     },
     "execution_count": 90,
     "metadata": {},
     "output_type": "execute_result"
    },
    {
     "data": {
      "image/png": "[encoded data removed]",
      "text/plain": [
       "<Figure size 432x288 with 1 Axes>"
      ]
     },
     "metadata": {
      "needs_background": "light"
     },
     "output_type": "display_data"
    }
   ],
   "source": [
    "# задание 1 балл (сум 6)\n",
    "# зависит ли количество правонарушений в среднем от дня недели (рабочий Пн-Пт или выходной Сб-Вс)\n",
    "# визуализировать результат\n",
    "# когда больше всего нарушений?\n",
    "#df.resample([check])\n",
    "\n"
   ]
  },
  {
   "cell_type": "code",
   "execution_count": 8,
   "metadata": {},
   "outputs": [
    {
     "data": {
      "image/png": "[encoded data removed]",
      "text/plain": [
       "<Figure size 432x288 with 1 Axes>"
      ]
     },
     "metadata": {
      "needs_background": "light"
     },
     "output_type": "display_data"
    }
   ],
   "source": [
    "df_mean.plot();"
   ]
  },
  {
   "cell_type": "markdown",
   "metadata": {},
   "source": [
    "## Неадекватный  водитель (Driving under the influence (DUI))\n",
    "отсюда и ниже работам только с водителями под воздействием веществ (4 балла)\n",
    "\n",
    "1. Отобрать водителей DUI\n",
    "2. Проанализировать количество нарушений в среднем в зависимости от дня недели (визуализировать)\n",
    "3. Разделить выборку на части исходя из среднего количества нарушений (пояснить выбор).\n",
    "4. Для выделенных частей проанализировать среднее количество правонарушений по часам суток, есль ли разница (если есть то в чем). \n",
    "\n",
    "Внимание! На каждой оси X должны стоять не абстрактные числа, а например часы или дни недели."
   ]
  },
  {
   "cell_type": "code",
   "execution_count": 91,
   "metadata": {
    "scrolled": true
   },
   "outputs": [
    {
     "data": {
      "text/html": [
       "<div>\n",
       "<style scoped>\n",
       "    .dataframe tbody tr th:only-of-type {\n",
       "        vertical-align: middle;\n",
       "    }\n",
       "\n",
       "    .dataframe tbody tr th {\n",
       "        vertical-align: top;\n",
       "    }\n",
       "\n",
       "    .dataframe thead th {\n",
       "        text-align: right;\n",
       "    }\n",
       "</style>\n",
       "<table border=\"1\" class=\"dataframe\">\n",
       "  <thead>\n",
       "    <tr style=\"text-align: right;\">\n",
       "      <th></th>\n",
       "      <th>id</th>\n",
       "      <th>state</th>\n",
       "      <th>location_raw</th>\n",
       "      <th>county_name</th>\n",
       "      <th>county_fips</th>\n",
       "      <th>fine_grained_location</th>\n",
       "      <th>police_department</th>\n",
       "      <th>driver_gender</th>\n",
       "      <th>driver_age_raw</th>\n",
       "      <th>driver_age</th>\n",
       "      <th>...</th>\n",
       "      <th>driver_race</th>\n",
       "      <th>violation_raw</th>\n",
       "      <th>violation</th>\n",
       "      <th>search_conducted</th>\n",
       "      <th>search_type_raw</th>\n",
       "      <th>search_type</th>\n",
       "      <th>contraband_found</th>\n",
       "      <th>stop_outcome</th>\n",
       "      <th>is_arrested</th>\n",
       "      <th>officer_id</th>\n",
       "    </tr>\n",
       "  </thead>\n",
       "  <tbody>\n",
       "    <tr>\n",
       "      <th>2010-07-04 01:38:00</th>\n",
       "      <td>VT-2010-00910</td>\n",
       "      <td>VT</td>\n",
       "      <td>Waterbury</td>\n",
       "      <td>Washington County</td>\n",
       "      <td>50023.0</td>\n",
       "      <td>VT RT 18</td>\n",
       "      <td>ST JOHNSBURY VSP</td>\n",
       "      <td>M</td>\n",
       "      <td>29.0</td>\n",
       "      <td>29.0</td>\n",
       "      <td>...</td>\n",
       "      <td>White</td>\n",
       "      <td>Suspicion of DWI</td>\n",
       "      <td>DUI</td>\n",
       "      <td>True</td>\n",
       "      <td>Consent Search-Probable Cause</td>\n",
       "      <td>Consent Search - Probable Cause</td>\n",
       "      <td>True</td>\n",
       "      <td>Arrest for Violation</td>\n",
       "      <td>True</td>\n",
       "      <td>-9.697686e+08</td>\n",
       "    </tr>\n",
       "    <tr>\n",
       "      <th>2010-07-04 15:50:00</th>\n",
       "      <td>VT-2010-01035</td>\n",
       "      <td>VT</td>\n",
       "      <td>Sherburne</td>\n",
       "      <td>Chittenden County</td>\n",
       "      <td>50007.0</td>\n",
       "      <td>VT RT 103</td>\n",
       "      <td>RUTLAND VSP</td>\n",
       "      <td>F</td>\n",
       "      <td>27.0</td>\n",
       "      <td>27.0</td>\n",
       "      <td>...</td>\n",
       "      <td>White</td>\n",
       "      <td>Suspicion of DWI</td>\n",
       "      <td>DUI</td>\n",
       "      <td>False</td>\n",
       "      <td>No Search Conducted</td>\n",
       "      <td>NaN</td>\n",
       "      <td>False</td>\n",
       "      <td>Citation</td>\n",
       "      <td>False</td>\n",
       "      <td>-2.980731e+08</td>\n",
       "    </tr>\n",
       "    <tr>\n",
       "      <th>2010-07-05 23:40:00</th>\n",
       "      <td>VT-2010-01535</td>\n",
       "      <td>VT</td>\n",
       "      <td>Guildhall</td>\n",
       "      <td>Essex County</td>\n",
       "      <td>50009.0</td>\n",
       "      <td>2000 I 91 N; MM2 I 91 N</td>\n",
       "      <td>BRATTLEBORO VSP</td>\n",
       "      <td>F</td>\n",
       "      <td>25.0</td>\n",
       "      <td>25.0</td>\n",
       "      <td>...</td>\n",
       "      <td>Asian</td>\n",
       "      <td>Suspicion of DWI</td>\n",
       "      <td>DUI</td>\n",
       "      <td>False</td>\n",
       "      <td>No Search Conducted</td>\n",
       "      <td>NaN</td>\n",
       "      <td>False</td>\n",
       "      <td>Citation</td>\n",
       "      <td>False</td>\n",
       "      <td>3.644600e+08</td>\n",
       "    </tr>\n",
       "    <tr>\n",
       "      <th>2010-07-07 14:00:00</th>\n",
       "      <td>VT-2010-01722</td>\n",
       "      <td>VT</td>\n",
       "      <td>Waterford</td>\n",
       "      <td>Caledonia County</td>\n",
       "      <td>50005.0</td>\n",
       "      <td>MAD BROOK RD</td>\n",
       "      <td>ST JOHNSBURY VSP</td>\n",
       "      <td>M</td>\n",
       "      <td>41.0</td>\n",
       "      <td>41.0</td>\n",
       "      <td>...</td>\n",
       "      <td>White</td>\n",
       "      <td>Suspicion of DWI</td>\n",
       "      <td>DUI</td>\n",
       "      <td>False</td>\n",
       "      <td>No Search Conducted</td>\n",
       "      <td>NaN</td>\n",
       "      <td>False</td>\n",
       "      <td>Written Warning</td>\n",
       "      <td>False</td>\n",
       "      <td>5.863135e+08</td>\n",
       "    </tr>\n",
       "    <tr>\n",
       "      <th>2010-07-10 21:35:00</th>\n",
       "      <td>VT-2010-02178</td>\n",
       "      <td>VT</td>\n",
       "      <td>East Montpelier</td>\n",
       "      <td>Washington County</td>\n",
       "      <td>50023.0</td>\n",
       "      <td>VT RT 14 N</td>\n",
       "      <td>MIDDLESEX VSP</td>\n",
       "      <td>M</td>\n",
       "      <td>50.0</td>\n",
       "      <td>50.0</td>\n",
       "      <td>...</td>\n",
       "      <td>Hispanic</td>\n",
       "      <td>Suspicion of DWI</td>\n",
       "      <td>DUI</td>\n",
       "      <td>False</td>\n",
       "      <td>No Search Conducted</td>\n",
       "      <td>NaN</td>\n",
       "      <td>False</td>\n",
       "      <td>Arrest for Violation</td>\n",
       "      <td>True</td>\n",
       "      <td>-1.562157e+09</td>\n",
       "    </tr>\n",
       "    <tr>\n",
       "      <th>...</th>\n",
       "      <td>...</td>\n",
       "      <td>...</td>\n",
       "      <td>...</td>\n",
       "      <td>...</td>\n",
       "      <td>...</td>\n",
       "      <td>...</td>\n",
       "      <td>...</td>\n",
       "      <td>...</td>\n",
       "      <td>...</td>\n",
       "      <td>...</td>\n",
       "      <td>...</td>\n",
       "      <td>...</td>\n",
       "      <td>...</td>\n",
       "      <td>...</td>\n",
       "      <td>...</td>\n",
       "      <td>...</td>\n",
       "      <td>...</td>\n",
       "      <td>...</td>\n",
       "      <td>...</td>\n",
       "      <td>...</td>\n",
       "      <td>...</td>\n",
       "    </tr>\n",
       "    <tr>\n",
       "      <th>2015-11-20 23:35:00</th>\n",
       "      <td>VT-2015-41728</td>\n",
       "      <td>VT</td>\n",
       "      <td>Putney</td>\n",
       "      <td>Windham County</td>\n",
       "      <td>50025.0</td>\n",
       "      <td>I 91 S MM21</td>\n",
       "      <td>BRATTLEBORO VSP</td>\n",
       "      <td>M</td>\n",
       "      <td>38.0</td>\n",
       "      <td>38.0</td>\n",
       "      <td>...</td>\n",
       "      <td>White</td>\n",
       "      <td>Suspicion of DWI</td>\n",
       "      <td>DUI</td>\n",
       "      <td>False</td>\n",
       "      <td>No Search Conducted</td>\n",
       "      <td>NaN</td>\n",
       "      <td>False</td>\n",
       "      <td>Written Warning</td>\n",
       "      <td>False</td>\n",
       "      <td>3.644600e+08</td>\n",
       "    </tr>\n",
       "    <tr>\n",
       "      <th>2015-11-22 00:02:00</th>\n",
       "      <td>VT-2015-41834</td>\n",
       "      <td>VT</td>\n",
       "      <td>Lyndonville</td>\n",
       "      <td>Caledonia County</td>\n",
       "      <td>50005.0</td>\n",
       "      <td>Lily Pond Rd</td>\n",
       "      <td>ST JOHNSBURY VSP</td>\n",
       "      <td>M</td>\n",
       "      <td>44.0</td>\n",
       "      <td>44.0</td>\n",
       "      <td>...</td>\n",
       "      <td>White</td>\n",
       "      <td>Suspicion of DWI</td>\n",
       "      <td>DUI</td>\n",
       "      <td>False</td>\n",
       "      <td>No Search Conducted</td>\n",
       "      <td>NaN</td>\n",
       "      <td>False</td>\n",
       "      <td>Citation</td>\n",
       "      <td>False</td>\n",
       "      <td>2.733421e+08</td>\n",
       "    </tr>\n",
       "    <tr>\n",
       "      <th>2015-11-30 20:16:00</th>\n",
       "      <td>VT-2015-43322</td>\n",
       "      <td>VT</td>\n",
       "      <td>Lyndon</td>\n",
       "      <td>Caledonia County</td>\n",
       "      <td>50005.0</td>\n",
       "      <td>I91 MM 137 NB</td>\n",
       "      <td>ST JOHNSBURY VSP</td>\n",
       "      <td>M</td>\n",
       "      <td>19.0</td>\n",
       "      <td>19.0</td>\n",
       "      <td>...</td>\n",
       "      <td>White</td>\n",
       "      <td>Suspicion of DWI</td>\n",
       "      <td>DUI</td>\n",
       "      <td>False</td>\n",
       "      <td>No Search Conducted</td>\n",
       "      <td>NaN</td>\n",
       "      <td>False</td>\n",
       "      <td>Arrest for Violation</td>\n",
       "      <td>True</td>\n",
       "      <td>-9.697686e+08</td>\n",
       "    </tr>\n",
       "    <tr>\n",
       "      <th>2015-12-30 18:22:00</th>\n",
       "      <td>VT-2015-45517</td>\n",
       "      <td>VT</td>\n",
       "      <td>Randolph</td>\n",
       "      <td>Orange County</td>\n",
       "      <td>50017.0</td>\n",
       "      <td>VT RT 66 &amp; STOCK FARM RD</td>\n",
       "      <td>ROYALTON VSP</td>\n",
       "      <td>M</td>\n",
       "      <td>43.0</td>\n",
       "      <td>43.0</td>\n",
       "      <td>...</td>\n",
       "      <td>White</td>\n",
       "      <td>Suspicion of DWI</td>\n",
       "      <td>DUI</td>\n",
       "      <td>False</td>\n",
       "      <td>No Search Conducted</td>\n",
       "      <td>NaN</td>\n",
       "      <td>False</td>\n",
       "      <td>Written Warning</td>\n",
       "      <td>False</td>\n",
       "      <td>-3.035562e+08</td>\n",
       "    </tr>\n",
       "    <tr>\n",
       "      <th>2015-12-31 18:07:00</th>\n",
       "      <td>VT-2015-45618</td>\n",
       "      <td>VT</td>\n",
       "      <td>Bradford</td>\n",
       "      <td>Orange County</td>\n",
       "      <td>50017.0</td>\n",
       "      <td>I 91 N MM98</td>\n",
       "      <td>BRADFORD VSP</td>\n",
       "      <td>F</td>\n",
       "      <td>53.0</td>\n",
       "      <td>53.0</td>\n",
       "      <td>...</td>\n",
       "      <td>White</td>\n",
       "      <td>Suspicion of DWI</td>\n",
       "      <td>DUI</td>\n",
       "      <td>False</td>\n",
       "      <td>No Search Conducted</td>\n",
       "      <td>NaN</td>\n",
       "      <td>False</td>\n",
       "      <td>Written Warning</td>\n",
       "      <td>False</td>\n",
       "      <td>1.721421e+09</td>\n",
       "    </tr>\n",
       "  </tbody>\n",
       "</table>\n",
       "<p>711 rows × 21 columns</p>\n",
       "</div>"
      ],
      "text/plain": [
       "                                id state     location_raw        county_name  \\\n",
       "2010-07-04 01:38:00  VT-2010-00910    VT        Waterbury  Washington County   \n",
       "2010-07-04 15:50:00  VT-2010-01035    VT        Sherburne  Chittenden County   \n",
       "2010-07-05 23:40:00  VT-2010-01535    VT        Guildhall       Essex County   \n",
       "2010-07-07 14:00:00  VT-2010-01722    VT        Waterford   Caledonia County   \n",
       "2010-07-10 21:35:00  VT-2010-02178    VT  East Montpelier  Washington County   \n",
       "...                            ...   ...              ...                ...   \n",
       "2015-11-20 23:35:00  VT-2015-41728    VT           Putney     Windham County   \n",
       "2015-11-22 00:02:00  VT-2015-41834    VT      Lyndonville   Caledonia County   \n",
       "2015-11-30 20:16:00  VT-2015-43322    VT           Lyndon   Caledonia County   \n",
       "2015-12-30 18:22:00  VT-2015-45517    VT         Randolph      Orange County   \n",
       "2015-12-31 18:07:00  VT-2015-45618    VT         Bradford      Orange County   \n",
       "\n",
       "                     county_fips     fine_grained_location police_department  \\\n",
       "2010-07-04 01:38:00      50023.0                  VT RT 18  ST JOHNSBURY VSP   \n",
       "2010-07-04 15:50:00      50007.0                 VT RT 103       RUTLAND VSP   \n",
       "2010-07-05 23:40:00      50009.0   2000 I 91 N; MM2 I 91 N   BRATTLEBORO VSP   \n",
       "2010-07-07 14:00:00      50005.0              MAD BROOK RD  ST JOHNSBURY VSP   \n",
       "2010-07-10 21:35:00      50023.0                VT RT 14 N     MIDDLESEX VSP   \n",
       "...                          ...                       ...               ...   \n",
       "2015-11-20 23:35:00      50025.0               I 91 S MM21   BRATTLEBORO VSP   \n",
       "2015-11-22 00:02:00      50005.0              Lily Pond Rd  ST JOHNSBURY VSP   \n",
       "2015-11-30 20:16:00      50005.0             I91 MM 137 NB  ST JOHNSBURY VSP   \n",
       "2015-12-30 18:22:00      50017.0  VT RT 66 & STOCK FARM RD      ROYALTON VSP   \n",
       "2015-12-31 18:07:00      50017.0               I 91 N MM98      BRADFORD VSP   \n",
       "\n",
       "                    driver_gender  driver_age_raw  driver_age  ...  \\\n",
       "2010-07-04 01:38:00             M            29.0        29.0  ...   \n",
       "2010-07-04 15:50:00             F            27.0        27.0  ...   \n",
       "2010-07-05 23:40:00             F            25.0        25.0  ...   \n",
       "2010-07-07 14:00:00             M            41.0        41.0  ...   \n",
       "2010-07-10 21:35:00             M            50.0        50.0  ...   \n",
       "...                           ...             ...         ...  ...   \n",
       "2015-11-20 23:35:00             M            38.0        38.0  ...   \n",
       "2015-11-22 00:02:00             M            44.0        44.0  ...   \n",
       "2015-11-30 20:16:00             M            19.0        19.0  ...   \n",
       "2015-12-30 18:22:00             M            43.0        43.0  ...   \n",
       "2015-12-31 18:07:00             F            53.0        53.0  ...   \n",
       "\n",
       "                    driver_race     violation_raw violation search_conducted  \\\n",
       "2010-07-04 01:38:00       White  Suspicion of DWI       DUI             True   \n",
       "2010-07-04 15:50:00       White  Suspicion of DWI       DUI            False   \n",
       "2010-07-05 23:40:00       Asian  Suspicion of DWI       DUI            False   \n",
       "2010-07-07 14:00:00       White  Suspicion of DWI       DUI            False   \n",
       "2010-07-10 21:35:00    Hispanic  Suspicion of DWI       DUI            False   \n",
       "...                         ...               ...       ...              ...   \n",
       "2015-11-20 23:35:00       White  Suspicion of DWI       DUI            False   \n",
       "2015-11-22 00:02:00       White  Suspicion of DWI       DUI            False   \n",
       "2015-11-30 20:16:00       White  Suspicion of DWI       DUI            False   \n",
       "2015-12-30 18:22:00       White  Suspicion of DWI       DUI            False   \n",
       "2015-12-31 18:07:00       White  Suspicion of DWI       DUI            False   \n",
       "\n",
       "                                   search_type_raw  \\\n",
       "2010-07-04 01:38:00  Consent Search-Probable Cause   \n",
       "2010-07-04 15:50:00            No Search Conducted   \n",
       "2010-07-05 23:40:00            No Search Conducted   \n",
       "2010-07-07 14:00:00            No Search Conducted   \n",
       "2010-07-10 21:35:00            No Search Conducted   \n",
       "...                                            ...   \n",
       "2015-11-20 23:35:00            No Search Conducted   \n",
       "2015-11-22 00:02:00            No Search Conducted   \n",
       "2015-11-30 20:16:00            No Search Conducted   \n",
       "2015-12-30 18:22:00            No Search Conducted   \n",
       "2015-12-31 18:07:00            No Search Conducted   \n",
       "\n",
       "                                         search_type contraband_found  \\\n",
       "2010-07-04 01:38:00  Consent Search - Probable Cause             True   \n",
       "2010-07-04 15:50:00                              NaN            False   \n",
       "2010-07-05 23:40:00                              NaN            False   \n",
       "2010-07-07 14:00:00                              NaN            False   \n",
       "2010-07-10 21:35:00                              NaN            False   \n",
       "...                                              ...              ...   \n",
       "2015-11-20 23:35:00                              NaN            False   \n",
       "2015-11-22 00:02:00                              NaN            False   \n",
       "2015-11-30 20:16:00                              NaN            False   \n",
       "2015-12-30 18:22:00                              NaN            False   \n",
       "2015-12-31 18:07:00                              NaN            False   \n",
       "\n",
       "                             stop_outcome is_arrested    officer_id  \n",
       "2010-07-04 01:38:00  Arrest for Violation        True -9.697686e+08  \n",
       "2010-07-04 15:50:00              Citation       False -2.980731e+08  \n",
       "2010-07-05 23:40:00              Citation       False  3.644600e+08  \n",
       "2010-07-07 14:00:00       Written Warning       False  5.863135e+08  \n",
       "2010-07-10 21:35:00  Arrest for Violation        True -1.562157e+09  \n",
       "...                                   ...         ...           ...  \n",
       "2015-11-20 23:35:00       Written Warning       False  3.644600e+08  \n",
       "2015-11-22 00:02:00              Citation       False  2.733421e+08  \n",
       "2015-11-30 20:16:00  Arrest for Violation        True -9.697686e+08  \n",
       "2015-12-30 18:22:00       Written Warning       False -3.035562e+08  \n",
       "2015-12-31 18:07:00       Written Warning       False  1.721421e+09  \n",
       "\n",
       "[711 rows x 21 columns]"
      ]
     },
     "execution_count": 91,
     "metadata": {},
     "output_type": "execute_result"
    }
   ],
   "source": [
    "df_dui = df.query(\"violation == 'DUI'\").copy()\n",
    "df_dui"
   ]
  },
  {
   "cell_type": "code",
   "execution_count": 92,
   "metadata": {},
   "outputs": [
    {
     "data": {
      "text/plain": [
       "Пн    0.229965\n",
       "Вт    0.202091\n",
       "Ср    0.254355\n",
       "Чт    0.226481\n",
       "Пт    0.489510\n",
       "Сб    0.632867\n",
       "Вс    0.445993\n",
       "Name: violation, dtype: float64"
      ]
     },
     "execution_count": 92,
     "metadata": {},
     "output_type": "execute_result"
    }
   ],
   "source": [
    "df_dui_c = df_dui.resample('D').count()\n",
    "df_dui_c['day']=df_dui_c.index.dayofweek\n",
    "df_dui_mean = df_dui_c.groupby('day')['violation'].mean()\n",
    "df_dui_mean.index = ['Пн','Вт','Ср','Чт','Пт','Сб','Вс']\n",
    "df_dui_mean"
   ]
  },
  {
   "cell_type": "code",
   "execution_count": 11,
   "metadata": {
    "scrolled": true
   },
   "outputs": [
    {
     "data": {
      "image/png": "[encoded data removed]",
      "text/plain": [
       "<Figure size 432x288 with 1 Axes>"
      ]
     },
     "metadata": {
      "needs_background": "light"
     },
     "output_type": "display_data"
    }
   ],
   "source": [
    "df_dui_mean.plot();"
   ]
  },
  {
   "cell_type": "markdown",
   "metadata": {},
   "source": [
    "# Разделим выборку на 2 части: будние(пн-чт) и выходные (пт-вс)\n",
    "В выходные запишем так же пятницу, так как это последний рабочий день и люди ведут себя более \"отвязно\" вечером"
   ]
  },
  {
   "cell_type": "code",
   "execution_count": 93,
   "metadata": {},
   "outputs": [],
   "source": [
    "# df_workdays = df_dui.query(\"day < 5\")\n",
    "# df_workdays\n",
    "df_dui['day'] = df_dui.index.dayofweek\n",
    "df_work = df_dui.query(\"day < 4\").copy()\n",
    "df_chill = df_dui.query(\"day >= 4\").copy()"
   ]
  },
  {
   "cell_type": "code",
   "execution_count": 116,
   "metadata": {},
   "outputs": [
    {
     "data": {
      "text/plain": [
       "<AxesSubplot:xlabel='time'>"
      ]
     },
     "execution_count": 116,
     "metadata": {},
     "output_type": "execute_result"
    },
    {
     "data": {
      "image/png": "[encoded data removed]",
      "text/plain": [
       "<Figure size 432x288 with 1 Axes>"
      ]
     },
     "metadata": {
      "needs_background": "light"
     },
     "output_type": "display_data"
    }
   ],
   "source": [
    "# df_work_hour = df_work.resample('h').count()\n",
    "# df_work_hour_mean = df_work_hour.groupby('day')['violation'].mean()\n",
    "# df_work_hour\n",
    "df_work = df_work.resample('3H').count()\n",
    "df_work['time'] = df_work.index.time\n",
    "df_work.groupby('time')[['violation']].count().plot()"
   ]
  },
  {
   "cell_type": "code",
   "execution_count": 95,
   "metadata": {},
   "outputs": [
    {
     "data": {
      "text/plain": [
       "<AxesSubplot:xlabel='time'>"
      ]
     },
     "execution_count": 95,
     "metadata": {},
     "output_type": "execute_result"
    },
    {
     "data": {
      "image/png": "[encoded data removed]",
      "text/plain": [
       "<Figure size 432x288 with 1 Axes>"
      ]
     },
     "metadata": {
      "needs_background": "light"
     },
     "output_type": "display_data"
    }
   ],
   "source": [
    "df_chill['time'] = df_chill.index.time\n",
    "df_chill.groupby(['time'])['violation'].count().plot()"
   ]
  },
  {
   "cell_type": "markdown",
   "metadata": {},
   "source": [
    "## Вывод: отличий нет."
   ]
  },
  {
   "cell_type": "code",
   "execution_count": null,
   "metadata": {},
   "outputs": [],
   "source": []
  }
 ],
 "metadata": {
  "kernelspec": {
   "display_name": "Python 3 (ipykernel)",
   "language": "python",
   "name": "python3"
  },
  "language_info": {
   "codemirror_mode": {
    "name": "ipython",
    "version": 3
   },
   "file_extension": ".py",
   "mimetype": "text/x-python",
   "name": "python",
   "nbconvert_exporter": "python",
   "pygments_lexer": "ipython3",
   "version": "3.9.7"
  }
 },
 "nbformat": 4,
 "nbformat_minor": 2
}
