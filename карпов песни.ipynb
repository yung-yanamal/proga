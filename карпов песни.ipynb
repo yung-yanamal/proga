{
 "cells": [
  {
   "cell_type": "code",
   "execution_count": 36,
   "id": "0799647a",
   "metadata": {},
   "outputs": [],
   "source": [
    "from sklearn import tree\n",
    "import pandas as pd\n",
    "import numpy as np\n",
    "import matplotlib.pyplot as plt\n",
    "import seaborn as sns\n",
    "from sklearn.model_selection import cross_val_score\n",
    "from sklearn.model_selection import train_test_split\n",
    "from sklearn.metrics import precision_score"
   ]
  },
  {
   "cell_type": "code",
   "execution_count": 44,
   "id": "32585ba8",
   "metadata": {},
   "outputs": [],
   "source": [
    "#precision = tp / (tp + fp)\n",
    "#recall = tp / (tp + fn)\n",
    "#F1 = 2 * (precision * recall) / (precision + recall)"
   ]
  },
  {
   "cell_type": "code",
   "execution_count": 45,
   "id": "9f7aae5b",
   "metadata": {},
   "outputs": [
    {
     "data": {
      "text/plain": [
       "array(['gangstarr', 'blind-guardian', 'abba'], dtype=object)"
      ]
     },
     "execution_count": 45,
     "metadata": {},
     "output_type": "execute_result"
    }
   ],
   "source": [
    "pesni = pd.read_csv('https://stepik.org/media/attachments/course/4852/songs.csv')\n",
    "pesni.artist.unique()"
   ]
  },
  {
   "cell_type": "code",
   "execution_count": 77,
   "id": "991aa0ab",
   "metadata": {},
   "outputs": [],
   "source": [
    "X = pesni.drop(['song', 'artist', 'genre', 'lyrics'], axis=1)\n",
    "y = pesni['artist']\n",
    "X_train, X_test, y_train, y_test = train_test_split(X, y, test_size = 0.33, random_state = 42)"
   ]
  },
  {
   "cell_type": "code",
   "execution_count": 85,
   "id": "55d4396b",
   "metadata": {},
   "outputs": [
    {
     "name": "stdout",
     "output_type": "stream",
     "text": [
      "0.8319327731092437\n"
     ]
    }
   ],
   "source": [
    "clf = tree.DecisionTreeClassifier(criterion='entropy', max_depth=6)\n",
    "predictions = clf.fit(X_train, y_train).predict(X_test)\n",
    "precision = precision_score(y_test, predictions, average='micro')\n",
    "print(precision)"
   ]
  },
  {
   "cell_type": "code",
   "execution_count": null,
   "id": "fbbc50f7",
   "metadata": {},
   "outputs": [],
   "source": []
  },
  {
   "cell_type": "code",
   "execution_count": null,
   "id": "bd839076",
   "metadata": {},
   "outputs": [],
   "source": []
  }
 ],
 "metadata": {
  "kernelspec": {
   "display_name": "Python 3 (ipykernel)",
   "language": "python",
   "name": "python3"
  },
  "language_info": {
   "codemirror_mode": {
    "name": "ipython",
    "version": 3
   },
   "file_extension": ".py",
   "mimetype": "text/x-python",
   "name": "python",
   "nbconvert_exporter": "python",
   "pygments_lexer": "ipython3",
   "version": "3.9.7"
  }
 },
 "nbformat": 4,
 "nbformat_minor": 5
}
