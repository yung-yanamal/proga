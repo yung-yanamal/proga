{
 "cells": [
  {
   "cell_type": "markdown",
   "id": "92cf6097",
   "metadata": {},
   "source": [
    "Краснощекова Яна"
   ]
  },
  {
   "cell_type": "code",
   "execution_count": 1,
   "id": "e5132405",
   "metadata": {},
   "outputs": [],
   "source": [
    "import numpy as np\n",
    "import matplotlib.pyplot as plt\n",
    "from scipy import stats"
   ]
  },
  {
   "cell_type": "code",
   "execution_count": 2,
   "id": "f9ba486c",
   "metadata": {},
   "outputs": [
    {
     "name": "stdout",
     "output_type": "stream",
     "text": [
      "1) Нужно закупать меньше 241 кг плавников, чтобы получать положительную прибыль\n"
     ]
    },
    {
     "data": {
      "text/plain": [
       "'2) 67 кг плавников нужно закупить, чтобы получить max прибыль 250.93679704826098 доллара'"
      ]
     },
     "execution_count": 2,
     "metadata": {},
     "output_type": "execute_result"
    }
   ],
   "source": [
    "#тут я задаю все условия, создаю список прибылей в зависимости от того, сколько куплено кг плавников у рыбаков\n",
    "#функция зависит от кол-ва дней и выводит кол-во кг плавников, при котором прибыль будет максимальной\n",
    "#также через print я вывожу, до скольки кг плавников можно закупать, чтобы не получать отрицательную прибыль\n",
    "#у нас такой спрос, что даже если мы будем продавать 1 блюдо - всё равно мы будем в плюсе\n",
    "#то есть для минимизации рисков нужно закупать меньше 241 кг плавнииков\n",
    "#а чтобы получать max прибыль, нужно закупать примерно 67 кг плавников у рыбаков\n",
    "\n",
    "def maxcash(n):\n",
    "    \n",
    "    all = []\n",
    "    \n",
    "    for z in range(0,260):\n",
    "        np.random.seed(42)\n",
    "        value = np.array(np.random.normal(60, 10, size=n))\n",
    "        price1 = np.full(n,12)\n",
    "        price2 = np.full(n,6)\n",
    "        unit_cost = np.full(n,7.5)\n",
    "        volume = np.full(n,z)\n",
    "\n",
    "        ost = [0 if i < 0 else i for i in (volume-value)]\n",
    "        spros = [z if i > z else i for i in value]\n",
    "\n",
    "        cost_price = volume*unit_cost\n",
    "        revenue = spros*price1 + ost*price2\n",
    "        cash = revenue - cost_price\n",
    "        all.append(np.mean(cash))\n",
    "        \n",
    "    for i in range(0,260):\n",
    "        if all[i]<0:\n",
    "            print(f'1) Нужно закупать меньше {i} кг плавников, чтобы получать положительную прибыль')\n",
    "            break\n",
    "            \n",
    "    return(f'2) {np.argmax(all)} кг плавников нужно закупить, чтобы получить max прибыль {np.max(all)} доллара')\n",
    "\n",
    "maxcash(100000)"
   ]
  },
  {
   "cell_type": "code",
   "execution_count": 3,
   "id": "f7749f01",
   "metadata": {},
   "outputs": [
    {
     "name": "stdout",
     "output_type": "stream",
     "text": [
      "250.93679704826098 - среднее\n",
      "259.6589766772023 - медиана\n",
      "182.6196363887566 - 10% перцентиль\n",
      "301.5 - 90% перцентиль\n",
      "[301.5] - мода\n"
     ]
    },
    {
     "data": {
      "text/plain": [
       "<matplotlib.legend.Legend at 0x2304224dca0>"
      ]
     },
     "execution_count": 3,
     "metadata": {},
     "output_type": "execute_result"
    },
    {
     "data": {
      "image/png": "[encoded data removed]",
      "text/plain": [
       "<Figure size 1080x360 with 1 Axes>"
      ]
     },
     "metadata": {
      "needs_background": "light"
     },
     "output_type": "display_data"
    }
   ],
   "source": [
    "n=100000\n",
    "z=67\n",
    "np.random.seed(42)\n",
    "value = np.array(np.random.normal(60, 10, size=n))\n",
    "price1 = np.full(n,12)\n",
    "price2 = np.full(n,6)\n",
    "unit_cost = np.full(n,7.5)\n",
    "volume = np.full(n,z)\n",
    "\n",
    "ost = [0 if i < 0 else i for i in (volume-value)]\n",
    "spros = [z if i > z else i for i in value]\n",
    "\n",
    "cost_price = volume*unit_cost\n",
    "revenue = spros*price1 + ost*price2\n",
    "cash = revenue - cost_price\n",
    "\n",
    "print(f'{np.mean(cash)} - среднее')\n",
    "print(f'{np.median(cash)} - медиана')\n",
    "print(f'{np.percentile(cash, 10)} - 10% перцентиль')\n",
    "print(f'{np.percentile(cash, 90)} - 90% перцентиль')\n",
    "print(f'{stats.mode(cash)[0]} - мода')\n",
    "fig, ax = plt.subplots(1,1, figsize = (15,5))\n",
    "plt.hist(cash, bins = 30, color = \"orange\", alpha = 0.5, edgecolor = \"black\")\n",
    "plt.axvline(np.mean(cash), color = \"blue\", linestyle = \"--\", label = 'среднее')\n",
    "plt.axvline(np.median(cash), color = \"red\", linestyle = \"--\", label = 'медиана')\n",
    "plt.axvline(np.percentile(cash, 10), color = \"purple\", linestyle = \"--\", label = '10% перцентиль')\n",
    "plt.axvline(np.percentile(cash, 90), color = \"green\", linestyle = \"--\", label = '90% перцентиль')\n",
    "plt.legend()"
   ]
  },
  {
   "cell_type": "code",
   "execution_count": null,
   "id": "4f7d3b96",
   "metadata": {},
   "outputs": [],
   "source": []
  }
 ],
 "metadata": {
  "kernelspec": {
   "display_name": "Python 3 (ipykernel)",
   "language": "python",
   "name": "python3"
  },
  "language_info": {
   "codemirror_mode": {
    "name": "ipython",
    "version": 3
   },
   "file_extension": ".py",
   "mimetype": "text/x-python",
   "name": "python",
   "nbconvert_exporter": "python",
   "pygments_lexer": "ipython3",
   "version": "3.9.7"
  }
 },
 "nbformat": 4,
 "nbformat_minor": 5
}
