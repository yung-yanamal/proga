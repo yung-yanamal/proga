{
 "cells": [
  {
   "cell_type": "code",
   "execution_count": null,
   "id": "e3e27bc0",
   "metadata": {},
   "outputs": [],
   "source": [
    "from sklearn import tree\n",
    "import pandas as pd\n",
    "import numpy as np\n",
    "import matplotlib.pyplot as plt\n",
    "import seaborn as sns\n",
    "from sklearn.model_selection import cross_val_score\n",
    "from sklearn.model_selection import train_test_split"
   ]
  },
  {
   "cell_type": "code",
   "execution_count": null,
   "id": "7634ce3f",
   "metadata": {},
   "outputs": [],
   "source": [
    "cat_train = pd.read_csv('https://stepik.org/media/attachments/course/4852/dogs_n_cats.csv')\n",
    "cat_test = pd.read_json('C:/Users/Yana/OneDrive - РАНХиГС/Рабочий стол/юни/прога/ML/dataset_cat.json')"
   ]
  },
  {
   "cell_type": "code",
   "execution_count": null,
   "id": "0ca63bd2",
   "metadata": {},
   "outputs": [],
   "source": [
    "X = cat_train.drop(['Вид'], axis=1)\n",
    "y = cat_train['Вид']"
   ]
  },
  {
   "cell_type": "code",
   "execution_count": null,
   "id": "3cd5e144",
   "metadata": {},
   "outputs": [],
   "source": [
    "X_train, X_test, y_train, y_test = train_test_split(X, y, test_size = 0.33, random_state = 42)"
   ]
  },
  {
   "cell_type": "code",
   "execution_count": null,
   "id": "a9d96db1",
   "metadata": {},
   "outputs": [],
   "source": [
    "clf = tree.DecisionTreeClassifier(criterion = 'entropy')\n",
    "clf.fit(X_train, y_train)"
   ]
  },
  {
   "cell_type": "code",
   "execution_count": null,
   "id": "353d149e",
   "metadata": {},
   "outputs": [],
   "source": [
    "tree.plot_tree(clf, feature_names=list(X),\n",
    "               class_names=['котики', 'собачки'],\n",
    "               filled=True);\n",
    "plt.show()"
   ]
  },
  {
   "cell_type": "code",
   "execution_count": null,
   "id": "81381b9b",
   "metadata": {},
   "outputs": [],
   "source": [
    "result = clf.predict(cat_test)\n",
    "pd.Series(result)[result == 'собачка'].count()"
   ]
  },
  {
   "cell_type": "code",
   "execution_count": null,
   "id": "a7699d11",
   "metadata": {},
   "outputs": [],
   "source": []
  }
 ],
 "metadata": {
  "kernelspec": {
   "display_name": "Python 3 (ipykernel)",
   "language": "python",
   "name": "python3"
  },
  "language_info": {
   "codemirror_mode": {
    "name": "ipython",
    "version": 3
   },
   "file_extension": ".py",
   "mimetype": "text/x-python",
   "name": "python",
   "nbconvert_exporter": "python",
   "pygments_lexer": "ipython3",
   "version": "3.9.7"
  }
 },
 "nbformat": 4,
 "nbformat_minor": 5
}
