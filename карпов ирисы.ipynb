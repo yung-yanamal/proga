{
 "cells": [
  {
   "cell_type": "code",
   "execution_count": 2,
   "id": "22a767e6",
   "metadata": {},
   "outputs": [],
   "source": [
    "from sklearn import tree\n",
    "import pandas as pd\n",
    "import numpy as np\n",
    "import matplotlib.pyplot as plt\n",
    "import seaborn as sns\n",
    "from sklearn.model_selection import cross_val_score\n",
    "from sklearn.model_selection import train_test_split"
   ]
  },
  {
   "cell_type": "code",
   "execution_count": null,
   "id": "7704e023",
   "metadata": {},
   "outputs": [],
   "source": [
    "iris_train = pd.read_csv('https://stepik.org/media/attachments/course/4852/train_iris.csv')\n",
    "iris_test = pd.read_csv('https://stepik.org/media/attachments/course/4852/test_iris.csv')\n",
    "iris_train.head()"
   ]
  },
  {
   "cell_type": "code",
   "execution_count": null,
   "id": "a73b796d",
   "metadata": {},
   "outputs": [],
   "source": [
    "#iris_train.isnull().sum() #нет NaN"
   ]
  },
  {
   "cell_type": "code",
   "execution_count": null,
   "id": "77036db6",
   "metadata": {},
   "outputs": [],
   "source": [
    "X_train = iris_train.drop(['species', 'Unnamed: 0'], axis = 1)\n",
    "y_train = iris_train.species\n",
    "\n",
    "X_test = iris_test.drop(['species', 'Unnamed: 0'], axis = 1)\n",
    "y_test = iris_test.species"
   ]
  },
  {
   "cell_type": "code",
   "execution_count": null,
   "id": "efeafb19",
   "metadata": {},
   "outputs": [],
   "source": [
    "np.random.seed(0)\n",
    "clf = tree.DecisionTreeClassifier(random_state=0, criterion = 'entropy')"
   ]
  },
  {
   "cell_type": "code",
   "execution_count": null,
   "id": "24e3e57d",
   "metadata": {},
   "outputs": [],
   "source": [
    "clf.fit(X_train, y_train)\n",
    "clf.score(X_train, y_train)\n",
    "clf.score(X_test, y_test)"
   ]
  },
  {
   "cell_type": "code",
   "execution_count": null,
   "id": "aafdb4d8",
   "metadata": {},
   "outputs": [],
   "source": [
    "max_depth_values = range(1, 100)\n",
    "scores_data = pd.DataFrame()\n",
    "\n",
    "for max_depth in max_depth_values:\n",
    "    clf = tree.DecisionTreeClassifier(criterion='entropy', max_depth=max_depth)\n",
    "    clf.fit(X_train, y_train)\n",
    "    train_score = clf.score(X_train, y_train)\n",
    "    test_score = clf.score(X_test, y_test)\n",
    "    \n",
    "    temp_score_data = pd.DataFrame({'max_depth': [max_depth], \n",
    "                                    'train_score': [train_score], \n",
    "                                    'test_score': [test_score]})\n",
    "    scores_data = pd.concat([scores_data, temp_score_data])\n",
    "    \n",
    "scores_data.head()"
   ]
  },
  {
   "cell_type": "code",
   "execution_count": null,
   "id": "09cbca2b",
   "metadata": {},
   "outputs": [],
   "source": [
    "scores_data.plot(x='max_depth', y=['train_score', 'test_score'], legend = True)"
   ]
  },
  {
   "cell_type": "code",
   "execution_count": null,
   "id": "440b09ff",
   "metadata": {},
   "outputs": [],
   "source": []
  }
 ],
 "metadata": {
  "kernelspec": {
   "display_name": "Python 3 (ipykernel)",
   "language": "python",
   "name": "python3"
  },
  "language_info": {
   "codemirror_mode": {
    "name": "ipython",
    "version": 3
   },
   "file_extension": ".py",
   "mimetype": "text/x-python",
   "name": "python",
   "nbconvert_exporter": "python",
   "pygments_lexer": "ipython3",
   "version": "3.9.7"
  }
 },
 "nbformat": 4,
 "nbformat_minor": 5
}
